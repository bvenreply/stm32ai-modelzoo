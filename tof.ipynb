{
 "cells": [
  {
   "cell_type": "markdown",
   "metadata": {},
   "source": [
    "# ToF demo\n",
    "\n",
    "This Jupyter notebook invokes the Vespucci jobcontrol-api to\n",
    "\n",
    "- Train the model for ToF\n",
    "- Generate the network `.c`/`.h` sources\n",
    "- Build the application firmware\n",
    "\n",
    "### Initial setup\n",
    "\n",
    "Dependencies are managed via `poetry`. You may install it with `pip install poetry`\n",
    "\n",
    "Then, install all dependencies simply by invoking `poetry install` in this directory. This will create a virtualenvironment and place it in this folder as `.venv`.\n",
    "\n",
    "Start a jupyter kernel in that environment and you're ready to run the notebook"
   ]
  },
  {
   "cell_type": "code",
   "execution_count": null,
   "metadata": {},
   "outputs": [],
   "source": [
    "# Configuration preamble\n",
    "import json\n",
    "import httpx\n",
    "import config\n",
    "import utils\n",
    "\n",
    "\n",
    "client = httpx.Client()\n"
   ]
  },
  {
   "cell_type": "code",
   "execution_count": null,
   "metadata": {},
   "outputs": [],
   "source": [
    "\n",
    "dataset_file = open(\"dataset\", \"rb\")\n",
    "\n",
    "job = client.post(\n",
    "    config.JOBCONTROL_API_JOBS_ENDPOINT,\n",
    "    files={\n",
    "        \"uploadedFile\": dataset_file\n",
    "    },\n",
    "    data={\n",
    "        \"templateId\": config.TRAINING_JOB_TEMPLATE_ID,\n",
    "        \"runtimeInput\": json.dumps(\n",
    "            {\n",
    "                \"config\": {},\n",
    "            }\n",
    "        )\n",
    "    },\n",
    "    # Authorization header\n",
    "    headers=utils.headers\n",
    ").raise_for_status().json()\n",
    "\n",
    "job_id = job[\"id\"]\n",
    "\n",
    "job = utils.block_until_done(job_id)\n",
    "\n",
    "artifacts = utils.download_artifacts(job)"
   ]
  }
 ],
 "metadata": {
  "kernelspec": {
   "display_name": ".venv",
   "language": "python",
   "name": "python3"
  },
  "language_info": {
   "codemirror_mode": {
    "name": "ipython",
    "version": 3
   },
   "file_extension": ".py",
   "mimetype": "text/x-python",
   "name": "python",
   "nbconvert_exporter": "python",
   "pygments_lexer": "ipython3",
   "version": "3.11.2"
  }
 },
 "nbformat": 4,
 "nbformat_minor": 2
}
